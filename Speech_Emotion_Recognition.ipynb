{
  "nbformat": 4,
  "nbformat_minor": 0,
  "metadata": {
    "colab": {
      "provenance": [],
      "authorship_tag": "ABX9TyNK1Sb+EdHcfv/BHCBNJcdu",
      "include_colab_link": true
    },
    "kernelspec": {
      "name": "python3",
      "display_name": "Python 3"
    },
    "language_info": {
      "name": "python"
    }
  },
  "cells": [
    {
      "cell_type": "markdown",
      "metadata": {
        "id": "view-in-github",
        "colab_type": "text"
      },
      "source": [
        "<a href=\"https://colab.research.google.com/github/Poojanaandhasekar/Data_Science_Intern/blob/main/Speech_Emotion_Recognition.ipynb\" target=\"_parent\"><img src=\"https://colab.research.google.com/assets/colab-badge.svg\" alt=\"Open In Colab\"/></a>"
      ]
    },
    {
      "cell_type": "code",
      "execution_count": 19,
      "metadata": {
        "colab": {
          "base_uri": "https://localhost:8080/"
        },
        "id": "cPtHYIxLYrLk",
        "outputId": "a368cbbc-c06a-4ad0-c3e2-e6ae3a1c876e"
      },
      "outputs": [
        {
          "output_type": "stream",
          "name": "stdout",
          "text": [
            "Requirement already satisfied: SpeechRecognition in /usr/local/lib/python3.10/dist-packages (3.10.0)\n",
            "Requirement already satisfied: textblob in /usr/local/lib/python3.10/dist-packages (0.17.1)\n",
            "Requirement already satisfied: requests>=2.26.0 in /usr/local/lib/python3.10/dist-packages (from SpeechRecognition) (2.31.0)\n",
            "Requirement already satisfied: nltk>=3.1 in /usr/local/lib/python3.10/dist-packages (from textblob) (3.8.1)\n",
            "Requirement already satisfied: click in /usr/local/lib/python3.10/dist-packages (from nltk>=3.1->textblob) (8.1.7)\n",
            "Requirement already satisfied: joblib in /usr/local/lib/python3.10/dist-packages (from nltk>=3.1->textblob) (1.3.2)\n",
            "Requirement already satisfied: regex>=2021.8.3 in /usr/local/lib/python3.10/dist-packages (from nltk>=3.1->textblob) (2023.6.3)\n",
            "Requirement already satisfied: tqdm in /usr/local/lib/python3.10/dist-packages (from nltk>=3.1->textblob) (4.66.1)\n",
            "Requirement already satisfied: charset-normalizer<4,>=2 in /usr/local/lib/python3.10/dist-packages (from requests>=2.26.0->SpeechRecognition) (3.2.0)\n",
            "Requirement already satisfied: idna<4,>=2.5 in /usr/local/lib/python3.10/dist-packages (from requests>=2.26.0->SpeechRecognition) (3.4)\n",
            "Requirement already satisfied: urllib3<3,>=1.21.1 in /usr/local/lib/python3.10/dist-packages (from requests>=2.26.0->SpeechRecognition) (2.0.4)\n",
            "Requirement already satisfied: certifi>=2017.4.17 in /usr/local/lib/python3.10/dist-packages (from requests>=2.26.0->SpeechRecognition) (2023.7.22)\n"
          ]
        }
      ],
      "source": [
        "pip install SpeechRecognition textblob\n"
      ]
    },
    {
      "cell_type": "code",
      "source": [
        "import speech_recognition as sr\n",
        "from textblob import TextBlob"
      ],
      "metadata": {
        "id": "06a0-X9UYwPS"
      },
      "execution_count": 20,
      "outputs": []
    },
    {
      "cell_type": "code",
      "source": [
        "\n",
        "\n",
        "\n",
        "# Initialize the recognizer\n",
        "recognizer = sr.Recognizer()"
      ],
      "metadata": {
        "id": "TOGu-8z7Y5zR"
      },
      "execution_count": 21,
      "outputs": []
    },
    {
      "cell_type": "code",
      "source": [
        "\n",
        "\n",
        "def speech_to_text(audio_file):\n",
        "    with sr.AudioFile(audio_file) as source:\n",
        "        audio_data = recognizer.record(source)\n",
        "        try:\n",
        "            text = recognizer.recognize_google(audio_data)\n",
        "            return text\n",
        "        except sr.UnknownValueError:\n",
        "            print(\"Speech Recognition could not understand audio.\")\n",
        "            return \"\"\n",
        "        except sr.RequestError as e:\n",
        "            print(f\"Could not request results from Google Speech Recognition service; {e}\")\n",
        "            return \"\""
      ],
      "metadata": {
        "id": "PrsA1vuKZie8"
      },
      "execution_count": 22,
      "outputs": []
    },
    {
      "cell_type": "code",
      "source": [
        "\n",
        "# Function to perform sentiment analysis\n",
        "def analyze_sentiment(text):\n",
        "    blob = TextBlob(text)\n",
        "    sentiment = blob.sentiment\n",
        "    return sentiment\n",
        "\n",
        ""
      ],
      "metadata": {
        "id": "Wxnj-R4DdE8-"
      },
      "execution_count": 23,
      "outputs": []
    },
    {
      "cell_type": "code",
      "source": [
        "\n",
        "if __name__ == \"__main__\":\n",
        "    audio_file = \"/content/03-01-01-01-02-02-01 (1).wav\""
      ],
      "metadata": {
        "id": "M02ZIqBgZsku"
      },
      "execution_count": 24,
      "outputs": []
    },
    {
      "cell_type": "code",
      "source": [
        "\n",
        " # Convert speech to text\n",
        "transcribed_text = speech_to_text(audio_file)\n",
        "\n"
      ],
      "metadata": {
        "id": "5gxHVSIUZyS2"
      },
      "execution_count": 9,
      "outputs": []
    },
    {
      "cell_type": "code",
      "source": [
        "\n",
        "\n",
        "if transcribed_text:\n",
        "    print(\"Transcribed Text:\", transcribed_text)\n"
      ],
      "metadata": {
        "colab": {
          "base_uri": "https://localhost:8080/"
        },
        "id": "8tZtq6TuZ1zs",
        "outputId": "a7f601be-0fa0-4cee-b012-7b0f8522249f"
      },
      "execution_count": 17,
      "outputs": [
        {
          "output_type": "stream",
          "name": "stdout",
          "text": [
            "Transcribed Text: dogs are sitting by the door\n"
          ]
        }
      ]
    },
    {
      "cell_type": "code",
      "source": [
        "import speech_recognition as sr\n",
        "from textblob import TextBlob\n",
        "\n",
        "# Initialize the recognizer\n",
        "recognizer = sr.Recognizer()\n",
        "\n",
        "# Function to convert speech to text\n",
        "def speech_to_text(audio_file):\n",
        "    with sr.AudioFile(audio_file) as source:\n",
        "        audio_data = recognizer.record(source)\n",
        "        try:\n",
        "            text = recognizer.recognize_google(audio_data)\n",
        "            return text\n",
        "        except sr.UnknownValueError:\n",
        "            print(\"Speech Recognition could not understand audio.\")\n",
        "            return \"\"\n",
        "        except sr.RequestError as e:\n",
        "            print(f\"Could not request results from Google Speech Recognition service; {e}\")\n",
        "            return \"\"\n",
        "\n",
        "# Function to classify sentiment as happy, sad, or neutral\n",
        "def classify_sentiment(text):\n",
        "    blob = TextBlob(text)\n",
        "    sentiment = blob.sentiment.polarity\n",
        "\n",
        "    if sentiment > 0.2:\n",
        "        return \"happy\"\n",
        "    elif sentiment < -0.2:\n",
        "        return \"sad\"\n",
        "    else:\n",
        "        return \"neutral\"\n",
        "\n",
        "if __name__ == \"__main__\":\n",
        "  audio_file = \"/content/03-01-01-01-02-02-01 (1).wav\"  # Replace with your audio file path\n",
        "\n",
        "    # Convert speech to text\n",
        "  transcribed_text = speech_to_text(audio_file)\n",
        "\n",
        "if transcribed_text:\n",
        "  print(\"Transcribed Text:\", transcribed_text)\n",
        "\n",
        "        # Classify sentiment\n",
        "  sentiment_label = classify_sentiment(transcribed_text)\n",
        "  print(\"Sentiment:\", sentiment_label)\n"
      ],
      "metadata": {
        "colab": {
          "base_uri": "https://localhost:8080/"
        },
        "id": "GpV_lJaFk1pQ",
        "outputId": "1b78568d-b7e6-45eb-9930-3624999376a8"
      },
      "execution_count": 16,
      "outputs": [
        {
          "output_type": "stream",
          "name": "stdout",
          "text": [
            "Transcribed Text: dogs are sitting by the door\n",
            "Sentiment: neutral\n"
          ]
        }
      ]
    },
    {
      "cell_type": "code",
      "source": [],
      "metadata": {
        "id": "OxzRUd5f6jnf"
      },
      "execution_count": null,
      "outputs": []
    }
  ]
}